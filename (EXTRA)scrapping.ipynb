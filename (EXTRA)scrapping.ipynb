{
 "cells": [
  {
   "cell_type": "code",
   "execution_count": 58,
   "id": "5f6569a8",
   "metadata": {},
   "outputs": [],
   "source": [
    "import csv\n",
    "from datetime import datetime\n",
    "import requests\n",
    "from bs4 import BeautifulSoup\n",
    "import pandas as pd"
   ]
  },
  {
   "cell_type": "code",
   "execution_count": 5,
   "id": "5e92c69e",
   "metadata": {},
   "outputs": [],
   "source": [
    "import requests\n",
    "from bs4 import BeautifulSoup\n",
    "\n",
    "# Send a request to the website\n",
    "url = 'https://europa.eu/eures/portal/jv-se/search?page=2&resultsPerPage=10&orderBy=BEST_MATCH&locationCodes=fi&lang=en'\n",
    "response = requests.get(url)\n",
    "\n",
    "# Parse the HTML content\n",
    "soup = BeautifulSoup(response.content, 'html.parser')\n",
    "\n",
    "# Find all job postings on the page\n",
    "job_postings = soup.find_all('article', class_='jv-card')\n",
    "\n",
    "# List to hold job data\n",
    "jobs_data = []\n",
    "\n",
    "# Loop through each job posting\n",
    "for job in job_postings:\n",
    "    # Extract the job title\n",
    "    title_tag = job.find('a', class_='ecl-link--standalone')\n",
    "    title = title_tag.get_text(strip=True) if title_tag else 'Title not found'\n",
    "\n",
    "    # Extract the location\n",
    "    location_tag = job.find('span', class_='jv-result-location-country')\n",
    "    location = location_tag.get_text(strip=True) if location_tag else 'Location not found'\n",
    "\n",
    "    # Extract the company name\n",
    "    company_tag = job.find('div', class_='jv-result-summary-title')  # You might need to adjust this selector\n",
    "    company = company_tag.get_text(strip=True) if company_tag else 'Company not found'\n",
    "\n",
    "    # Add job info to the list\n",
    "    jobs_data.append({\n",
    "        'title': title,\n",
    "        'location': location,\n",
    "        'company': company\n",
    "    })\n",
    "\n",
    "# Display the results\n",
    "for job in jobs_data:\n",
    "    print(job)\n"
   ]
  },
  {
   "cell_type": "code",
   "execution_count": null,
   "id": "c7511ba6",
   "metadata": {},
   "outputs": [],
   "source": []
  },
  {
   "cell_type": "code",
   "execution_count": 6,
   "id": "4a38cb9c",
   "metadata": {},
   "outputs": [
    {
     "data": {
      "text/plain": [
       "[]"
      ]
     },
     "execution_count": 6,
     "metadata": {},
     "output_type": "execute_result"
    }
   ],
   "source": [
    "jobs_daat"
   ]
  },
  {
   "cell_type": "code",
   "execution_count": 6,
   "id": "a8dd74fe",
   "metadata": {},
   "outputs": [
    {
     "data": {
      "text/plain": [
       "b'<!DOCTYPE html><html lang=\"en\"><head>\\n        <meta charset=\"utf-8\">\\n        <base href=\"/eures/portal/\">\\n        <meta http-equiv=\"Cache-control\" content=\"no-cache, no-store, must-revalidate\">\\n        <meta http-equiv=\"Pragma\" content=\"no-cache\">\\n        <meta http-equiv=\"Expires\" content=\"0\">\\n        <meta name=\"viewport\" content=\"width=device-width, initial-scale=1\">\\n        <link rel=\"icon\" type=\"image/x-icon\" href=\"favicon.ico\">\\n        <title></title>\\n    <style>@charset \"UTF-8\";\\n/*! @ecl/preset-ec - 3.3.0 Built on 2022-05-17T06:21:37.891Z */\\n/*!\\n * Pikaday\\n * Copyright \\xc2\\xa9 2014 David Bushell | BSD & MIT license | https://dbushell.com/\\n */\\n/*! normalize.css v8.0.1 | MIT License | github.com/necolas/normalize.css */html{line-height:1.15;-webkit-text-size-adjust:100%}body,div,html{border:0;font:inherit;font-size:100%;margin:0;padding:0}body{line-height:1}:root{--eui-base-color-grey-100:#404040;--eui-base-color-grey-100-rgb:#404040;--eui-base-color-grey-100-contrast:#fff;--eui-base-color-grey-100-contrast-rgb:#fff;--eui-base-color-grey-90:#535353;--eui-base-color-grey-90-rgb:#535353;--eui-base-color-grey-90-contrast:#fff;--eui-base-color-grey-90-contrast-rgb:#fff;--eui-base-color-grey-80:#666;--eui-base-color-grey-80-rgb:#666;--eui-base-color-grey-80-contrast:#fff;--eui-base-color-grey-80-contrast-rgb:#fff;--eui-base-color-grey-75:#707070;--eui-base-color-grey-75-rgb:#707070;--eui-base-color-grey-75-contrast:#fff;--eui-base-color-grey-75-contrast-rgb:#fff;--eui-base-color-grey-50:#a0a0a0;--eui-base-color-grey-50-rgb:#a0a0a0;--eui-base-color-grey-50-contrast:#404040;--eui-base-color-grey-50-contrast-rgb:#404040;--eui-base-color-grey-35:#bcbcbc;--eui-base-color-grey-35-rgb:#bcbcbc;--eui-base-color-grey-35-contrast:#404040;--eui-base-color-grey-35-contrast-rgb:#404040;--eui-base-color-grey-25:#cfcfcf;--eui-base-color-grey-25-rgb:#cfcfcf;--eui-base-color-grey-25-contrast:#404040;--eui-base-color-grey-25-contrast-rgb:#404040;--eui-base-color-grey-20:#d9d9d9;--eui-base-color-grey-20-rgb:#d9d9d9;--eui-base-color-grey-20-contrast:#404040;--eui-base-color-grey-20-contrast-rgb:#404040;--eui-base-color-grey-15:#e2e2e2;--eui-base-color-grey-15-rgb:#e2e2e2;--eui-base-color-grey-15-contrast:#404040;--eui-base-color-grey-15-contrast-rgb:#404040;--eui-base-color-grey-10:#ececec;--eui-base-color-grey-10-rgb:#ececec;--eui-base-color-grey-10-contrast:#404040;--eui-base-color-grey-10-contrast-rgb:#404040;--eui-base-color-grey-5:#f5f5f5;--eui-base-color-grey-5-rgb:#f5f5f5;--eui-base-color-grey-5-contrast:#404040;--eui-base-color-grey-5-contrast-rgb:#404040;--eui-base-color-grey-2:#fbfbfb;--eui-base-color-grey-2-rgb:#fbfbfb;--eui-base-color-grey-2-contrast:#404040;--eui-base-color-grey-2-contrast-rgb:#404040;--eui-base-color-primary-140:#002959;--eui-base-color-primary-140-rgb:#002959;--eui-base-color-primary-140-contrast:#fff;--eui-base-color-primary-140-contrast-rgb:#fff;--eui-base-color-primary-130:#003068;--eui-base-color-primary-130-rgb:#003068;--eui-base-color-primary-130-contrast:#fff;--eui-base-color-primary-130-contrast-rgb:#fff;--eui-base-color-primary-120:#003676;--eui-base-color-primary-120-rgb:#003676;--eui-base-color-primary-120-contrast:#fff;--eui-base-color-primary-120-contrast-rgb:#fff;--eui-base-color-primary-110:#003d85;--eui-base-color-primary-110-rgb:#003d85;--eui-base-color-primary-110-contrast:#fff;--eui-base-color-primary-110-contrast-rgb:#fff;--eui-base-color-primary-100:#004494;--eui-base-color-primary-100-rgb:#004494;--eui-base-color-primary-100-contrast:#fff;--eui-base-color-primary-100-contrast-rgb:#fff;--eui-base-color-primary-75:#4073af;--eui-base-color-primary-75-rgb:#4073af;--eui-base-color-primary-75-contrast:#fff;--eui-base-color-primary-75-contrast-rgb:#fff;--eui-base-color-primary-50:#80a2ca;--eui-base-color-primary-50-rgb:#80a2ca;--eui-base-color-primary-50-contrast:#404040;--eui-base-color-primary-50-contrast-rgb:#404040;--eui-base-color-primary-25:#bfd0e4;--eui-base-color-primary-25-rgb:#bfd0e4;--eui-base-color-primary-25-contrast:#404040;--eui-base-color-primary-25-contrast-rgb:#404040;--eui-base-color-primary-10:#e6ecf4;--eui-base-color-primary-10-rgb:#e6ecf4;--eui-base-color-primary-10-contrast:#404040;--eui-base-color-primary-10-contrast-rgb:#404040;--eui-base-color-primary-5:#f2f6fa;--eui-base-color-primary-5-rgb:#f2f6fa;--eui-base-color-primary-5-contrast:#404040;--eui-base-color-primary-5-contrast-rgb:#404040;--eui-base-color-accent-140:#99800e;--eui-base-color-accent-140-rgb:#99800e;--eui-base-color-accent-140-contrast:#404040;--eui-base-color-accent-140-contrast-rgb:#404040;--eui-base-color-accent-130:#b39610;--eui-base-color-accent-130-rgb:#b39610;--eui-base-color-accent-130-contrast:#404040;--eui-base-color-accent-130-contrast-rgb:#404040;--eui-base-color-accent-120:#f8ae21;--eui-base-color-accent-120-rgb:#f8ae21;--eui-base-color-accent-120-contrast:#404040;--eui-base-color-accent-120-contrast-rgb:#404040;--eui-base-color-accent-110:#fbc11d;--eui-base-color-accent-110-rgb:#fbc11d;--eui-base-color-accent-110-contrast:#404040;--eui-base-color-accent-110-contrast-rgb:#404040;--eui-base-color-accent-100:#ffd617;--eui-base-color-accent-100-rgb:#ffd617;--eui-base-color-accent-100-contrast:#404040;--eui-base-color-accent-100-contrast-rgb:#404040;--eui-base-color-accent-75:#ffde39;--eui-base-color-accent-75-rgb:#ffde39;--eui-base-color-accent-75-contrast:#404040;--eui-base-color-accent-75-contrast-rgb:#404040;--eui-base-color-accent-50:#ffe879;--eui-base-color-accent-50-rgb:#ffe879;--eui-base-color-accent-50-contrast:#404040;--eui-base-color-accent-50-contrast-rgb:#404040;--eui-base-color-accent-25:#fff4bb;--eui-base-color-accent-25-rgb:#fff4bb;--eui-base-color-accent-25-contrast:#404040;--eui-base-color-accent-25-contrast-rgb:#404040;--eui-base-color-accent-10:#fffbe8;--eui-base-color-accent-10-rgb:#fffbe8;--eui-base-color-accent-10-contrast:#404040;--eui-base-color-accent-10-contrast-rgb:#404040;--eui-base-color-accent-5:#fffdf3;--eui-base-color-accent-5-rgb:#fffdf3;--eui-base-color-accent-5-contrast:#404040;--eui-base-color-accent-5-contrast-rgb:#404040;--eui-base-color-info-140:#00436c;--eui-base-color-info-140-rgb:#00436c;--eui-base-color-info-140-contrast:#fff;--eui-base-color-info-140-contrast-rgb:#fff;--eui-base-color-info-130:#004e7e;--eui-base-color-info-130-rgb:#004e7e;--eui-base-color-info-130-contrast:#fff;--eui-base-color-info-130-contrast-rgb:#fff;--eui-base-color-info-120:#005990;--eui-base-color-info-120-rgb:#005990;--eui-base-color-info-120-contrast:#fff;--eui-base-color-info-120-contrast-rgb:#fff;--eui-base-color-info-110:#0064a2;--eui-base-color-info-110-rgb:#0064a2;--eui-base-color-info-110-contrast:#fff;--eui-base-color-info-110-contrast-rgb:#fff;--eui-base-color-info-100:#006fb4;--eui-base-color-info-100-rgb:#006fb4;--eui-base-color-info-100-contrast:#fff;--eui-base-color-info-100-contrast-rgb:#fff;--eui-base-color-info-75:#4093c7;--eui-base-color-info-75-rgb:#4093c7;--eui-base-color-info-75-contrast:#fff;--eui-base-color-info-75-contrast-rgb:#fff;--eui-base-color-info-50:#80b7da;--eui-base-color-info-50-rgb:#80b7da;--eui-base-color-info-50-contrast:#404040;--eui-base-color-info-50-contrast-rgb:#404040;--eui-base-color-info-25:#bfdbec;--eui-base-color-info-25-rgb:#bfdbec;--eui-base-color-info-25-contrast:#404040;--eui-base-color-info-25-contrast-rgb:#404040;--eui-base-color-info-10:#e6f1f8;--eui-base-color-info-10-rgb:#e6f1f8;--eui-base-color-info-10-contrast:#404040;--eui-base-color-info-10-contrast-rgb:#404040;--eui-base-color-info-5:#f2f8fb;--eui-base-color-info-5-rgb:#f2f8fb;--eui-base-color-info-5-contrast:#404040;--eui-base-color-info-5-contrast-rgb:#404040;--eui-base-color-success-140:#2a4922;--eui-base-color-success-140-rgb:#2a4922;--eui-base-color-success-140-contrast:#fff;--eui-base-color-success-140-contrast-rgb:#fff;--eui-base-color-success-130:#315528;--eui-base-color-success-130-rgb:#315528;--eui-base-color-success-130-contrast:#fff;--eui-base-color-success-130-contrast-rgb:#fff;--eui-base-color-success-120:#38622e;--eui-base-color-success-120-rgb:#38622e;--eui-base-color-success-120-contrast:#fff;--eui-base-color-success-120-contrast-rgb:#fff;--eui-base-color-success-110:#3f6e33;--eui-base-color-success-110-rgb:#3f6e33;--eui-base-color-success-110-contrast:#fff;--eui-base-color-success-110-contrast-rgb:#fff;--eui-base-color-success-100:#467a39;--eui-base-color-success-100-rgb:#467a39;--eui-base-color-success-100-contrast:#fff;--eui-base-color-success-100-contrast-rgb:#fff;--eui-base-color-success-75:#749b6b;--eui-base-color-success-75-rgb:#749b6b;--eui-base-color-success-75-contrast:#404040;--eui-base-color-success-75-contrast-rgb:#404040;--eui-base-color-success-50:#a3bd9c;--eui-base-color-success-50-rgb:#a3bd9c;--eui-base-color-success-50-contrast:#404040;--eui-base-color-success-50-contrast-rgb:#404040;--eui-base-color-success-25:#d1dece;--eui-base-color-success-25-rgb:#d1dece;--eui-base-color-success-25-contrast:#404040;--eui-base-color-success-25-contrast-rgb:#404040;--eui-base-color-success-10:#edf2eb;--eui-base-color-success-10-rgb:#edf2eb;--eui-base-color-success-10-contrast:#404040;--eui-base-color-success-10-contrast-rgb:#404040;--eui-base-color-success-5:#f6f8f5;--eui-base-color-success-5-rgb:#f6f8f5;--eui-base-color-success-5-contrast:#404040;--eui-base-color-success-5-contrast-rgb:#404040;--eui-base-color-warning-140:#915917;--eui-base-color-warning-140-rgb:#915917;--eui-base-color-warning-140-contrast:#fff;--eui-base-color-warning-140-contrast-rgb:#fff;--eui-base-color-warning-130:#a9681b;--eui-base-color-warning-130-rgb:#a9681b;--eui-base-color-warning-130-contrast:#fff;--eui-base-color-warning-130-contrast-rgb:#fff;--eui-base-color-warning-120:#c2771f;--eui-base-color-warning-120-rgb:#c2771f;--eui-base-color-warning-120-contrast:#404040;--eui-base-color-warning-120-contrast-rgb:#404040;--eui-base-color-warning-110:#da8623;--eui-base-color-warning-110-rgb:#da8623;--eui-base-color-warning-110-contrast:#404040;--eui-base-color-warning-110-contrast-rgb:#404040;--eui-base-color-warning-100:#f29527;--eui-base-color-warning-100-rgb:#f29527;--eui-base-color-warning-100-contrast:#404040;--eui-base-color-warning-100-contrast-rgb:#404040;--eui-base-color-warning-75:#f5b05d;--eui-base-color-warning-75-rgb:#f5b05d;--eui-base-color-warning-75-contrast:#404040;--eui-base-color-warning-75-contrast-rgb:#404040;--eui-base-color-warning-50:#f9ca93;--eui-base-color-warning-50-rgb:#f9ca93;--eui-base-color-warning-50-contrast:#404040;--eui-base-color-warning-50-contrast-rgb:#404040;--eui-base-color-warning-25:#fce5c9;--eui-base-color-warning-25-rgb:#fce5c9;--eui-base-color-warning-25-contrast:#404040;--eui-base-color-warning-25-contrast-rgb:#404040;--eui-base-color-warning-10:#fef4e9;--eui-base-color-warning-10-rgb:#fef4e9;--eui-base-color-warning-10-contrast:#404040;--eui-base-color-warning-10-contrast-rgb:#404040;--eui-base-color-warning-5:#fefaf4;--eui-base-color-warning-5-rgb:#fefaf4;--eui-base-color-warning-5-contrast:#404040;--eui-base-color-warning-5-contrast-rgb:#404040;--eui-base-color-danger-140:#83141d;--eui-base-color-danger-140-rgb:#83141d;--eui-base-color-danger-140-contrast:#fff;--eui-base-color-danger-140-contrast-rgb:#fff;--eui-base-color-danger-130:#991722;--eui-base-color-danger-130-rgb:#991722;--eui-base-color-danger-130-contrast:#fff;--eui-base-color-danger-130-contrast-rgb:#fff;--eui-base-color-danger-120:#ae1a27;--eui-base-color-danger-120-rgb:#ae1a27;--eui-base-color-danger-120-contrast:#fff;--eui-base-color-danger-120-contrast-rgb:#fff;--eui-base-color-danger-110:#c41e2c;--eui-base-color-danger-110-rgb:#c41e2c;--eui-base-color-danger-110-contrast:#fff;--eui-base-color-danger-110-contrast-rgb:#fff;--eui-base-color-danger-100:#da2131;--eui-base-color-danger-100-rgb:#da2131;--eui-base-color-danger-100-contrast:#fff;--eui-base-color-danger-100-contrast-rgb:#fff;--eui-base-color-danger-75:#e35965;--eui-base-color-danger-75-rgb:#e35965;--eui-base-color-danger-75-contrast:#404040;--eui-base-color-danger-75-contrast-rgb:#404040;--eui-base-color-danger-50:#ed9098;--eui-base-color-danger-50-rgb:#ed9098;--eui-base-color-danger-50-contrast:#404040;--eui-base-color-danger-50-contrast-rgb:#404040;--eui-base-color-danger-25:#f6c8cc;--eui-base-color-danger-25-rgb:#f6c8cc;--eui-base-color-danger-25-contrast:#404040;--eui-base-color-danger-25-contrast-rgb:#404040;--eui-base-color-danger-10:#fbe9ea;--eui-base-color-danger-10-rgb:#fbe9ea;--eui-base-color-danger-10-contrast:#404040;--eui-base-color-danger-10-contrast-rgb:#404040;--eui-base-color-danger-5:#fdf4f5;--eui-base-color-danger-5-rgb:#fdf4f5;--eui-base-color-danger-5-contrast:#404040;--eui-base-color-danger-5-contrast-rgb:#404040;--eui-base-color-grey:#a0a0a0;--eui-base-color-primary:#004494;--eui-base-color-accent:#ffd617;--eui-base-color-info:#006fb4;--eui-base-color-success:#467a39;--eui-base-color-warning:#f29527;--eui-base-color-danger:#da2131;--eui-base-color-primary-darkester:#002959;--eui-base-color-primary-darkester-rgb:#002959;--eui-base-color-primary-darkester-contrast:#fff;--eui-base-color-primary-darkester-contrast-rgb:#fff;--eui-base-color-primary-darkest:#003068;--eui-base-color-primary-darkest-rgb:#003068;--eui-base-color-primary-darkest-contrast:#fff;--eui-base-color-primary-darkest-contrast-rgb:#fff;--eui-base-color-primary-darker:#003676;--eui-base-color-primary-darker-rgb:#003676;--eui-base-color-primary-darker-contrast:#fff;--eui-base-color-primary-darker-contrast-rgb:#fff;--eui-base-color-primary-dark:#003d85;--eui-base-color-primary-dark-rgb:#003d85;--eui-base-color-primary-dark-contrast:#fff;--eui-base-color-primary-dark-contrast-rgb:#fff;--eui-base-color-primary-light:#4073af;--eui-base-color-primary-light-rgb:#4073af;--eui-base-color-primary-light-contrast:#fff;--eui-base-color-primary-light-contrast-rgb:#fff;--eui-base-color-primary-lighter:#80a2ca;--eui-base-color-primary-lighter-rgb:#80a2ca;--eui-base-color-primary-lighter-contrast:#404040;--eui-base-color-primary-lighter-contrast-rgb:#404040;--eui-base-color-primary-lightest:#bfd0e4;--eui-base-color-primary-lightest-rgb:#bfd0e4;--eui-base-color-primary-lightest-contrast:#404040;--eui-base-color-primary-lightest-contrast-rgb:#404040;--eui-base-color-primary-lightester:#e6ecf4;--eui-base-color-primary-lightester-rgb:#e6ecf4;--eui-base-color-primary-lightester-contrast:#404040;--eui-base-color-primary-lightester-contrast-rgb:#404040;--eui-base-color-primary-lightester-2:#f2f6fa;--eui-base-color-primary-lightester-2-rgb:#f2f6fa;--eui-base-color-primary-lightester-2-contrast:#404040;--eui-base-color-primary-lightester-2-contrast-rgb:#404040;--eui-base-color-info-darkester:#00436c;--eui-base-color-info-darkester-rgb:#00436c;--eui-base-color-info-darkester-contrast:#fff;--eui-base-color-info-darkester-contrast-rgb:#fff;--eui-base-color-info-darkest:#004e7e;--eui-base-color-info-darkest-rgb:#004e7e;--eui-base-color-info-darkest-contrast:#fff;--eui-base-color-info-darkest-contrast-rgb:#fff;--eui-base-color-info-darker:#005990;--eui-base-color-info-darker-rgb:#005990;--eui-base-color-info-darker-contrast:#fff;--eui-base-color-info-darker-contrast-rgb:#fff;--eui-base-color-info-dark:#0064a2;--eui-base-color-info-dark-rgb:#0064a2;--eui-base-color-info-dark-contrast:#fff;--eui-base-color-info-dark-contrast-rgb:#fff;--eui-base-color-info-light:#4093c7;--eui-base-color-info-light-rgb:#4093c7;--eui-base-color-info-light-contrast:#fff;--eui-base-color-info-light-contrast-rgb:#fff;--eui-base-color-info-lighter:#80b7da;--eui-base-color-info-lighter-rgb:#80b7da;--eui-base-color-info-lighter-contrast:#404040;--eui-base-color-info-lighter-contrast-rgb:#404040;--eui-base-color-info-lightest:#bfdbec;--eui-base-color-info-lightest-rgb:#bfdbec;--eui-base-color-info-lightest-contrast:#404040;--eui-base-color-info-lightest-contrast-rgb:#404040;--eui-base-color-info-lightester:#e6f1f8;--eui-base-color-info-lightester-rgb:#e6f1f8;--eui-base-color-info-lightester-contrast:#404040;--eui-base-color-info-lightester-contrast-rgb:#404040;--eui-base-color-info-lightester-2:#f2f8fb;--eui-base-color-info-lightester-2-rgb:#f2f8fb;--eui-base-color-info-lightester-2-contrast:#404040;--eui-base-color-info-lightester-2-contrast-rgb:#404040;--eui-base-color-success-darkester:#2a4922;--eui-base-color-success-darkester-rgb:#2a4922;--eui-base-color-success-darkester-contrast:#fff;--eui-base-color-success-darkester-contrast-rgb:#fff;--eui-base-color-success-darkest:#315528;--eui-base-color-success-darkest-rgb:#315528;--eui-base-color-success-darkest-contrast:#fff;--eui-base-color-success-darkest-contrast-rgb:#fff;--eui-base-color-success-darker:#38622e;--eui-base-color-success-darker-rgb:#38622e;--eui-base-color-success-darker-contrast:#fff;--eui-base-color-success-darker-contrast-rgb:#fff;--eui-base-color-success-dark:#3f6e33;--eui-base-color-success-dark-rgb:#3f6e33;--eui-base-color-success-dark-contrast:#fff;--eui-base-color-success-dark-contrast-rgb:#fff;--eui-base-color-success-light:#749b6b;--eui-base-color-success-light-rgb:#749b6b;--eui-base-color-success-light-contrast:#404040;--eui-base-color-success-light-contrast-rgb:#404040;--eui-base-color-success-lighter:#a3bd9c;--eui-base-color-success-lighter-rgb:#a3bd9c;--eui-base-color-success-lighter-contrast:#404040;--eui-base-color-success-lighter-contrast-rgb:#404040;--eui-base-color-success-lightest:#d1dece;--eui-base-color-success-lightest-rgb:#d1dece;--eui-base-color-success-lightest-contrast:#404040;--eui-base-color-success-lightest-contrast-rgb:#404040;--eui-base-color-success-lightester:#edf2eb;--eui-base-color-success-lightester-rgb:#edf2eb;--eui-base-color-success-lightester-contrast:#404040;--eui-base-color-success-lightester-contrast-rgb:#404040;--eui-base-color-success-lightester-2:#f6f8f5;--eui-base-color-success-lightester-2-rgb:#f6f8f5;--eui-base-color-success-lightester-2-contrast:#404040;--eui-base-color-success-lightester-2-contrast-rgb:#404040;--eui-base-color-warning-darkester:#915917;--eui-base-color-warning-darkester-rgb:#915917;--eui-base-color-warning-darkester-contrast:#fff;--eui-base-color-warning-darkester-contrast-rgb:#fff;--eui-base-color-warning-darkest:#a9681b;--eui-base-color-warning-darkest-rgb:#a9681b;--eui-base-color-warning-darkest-contrast:#fff;--eui-base-color-warning-darkest-contrast-rgb:#fff;--eui-base-color-warning-darker:#c2771f;--eui-base-color-warning-darker-rgb:#c2771f;--eui-base-color-warning-darker-contrast:#404040;--eui-base-color-warning-darker-contrast-rgb:#404040;--eui-base-color-warning-dark:#da8623;--eui-base-color-warning-dark-rgb:#da8623;--eui-base-color-warning-dark-contrast:#404040;--eui-base-color-warning-dark-contrast-rgb:#404040;--eui-base-color-warning-light:#f5b05d;--eui-base-color-warning-light-rgb:#f5b05d;--eui-base-color-warning-light-contrast:#404040;--eui-base-color-warning-light-contrast-rgb:#404040;--eui-base-color-warning-lighter:#f9ca93;--eui-base-color-warning-lighter-rgb:#f9ca93;--eui-base-color-warning-lighter-contrast:#404040;--eui-base-color-warning-lighter-contrast-rgb:#404040;--eui-base-color-warning-lightest:#fce5c9;--eui-base-color-warning-lightest-rgb:#fce5c9;--eui-base-color-warning-lightest-contrast:#404040;--eui-base-color-warning-lightest-contrast-rgb:#404040;--eui-base-color-warning-lightester:#fef4e9;--eui-base-color-warning-lightester-rgb:#fef4e9;--eui-base-color-warning-lightester-contrast:#404040;--eui-base-color-warning-lightester-contrast-rgb:#404040;--eui-base-color-warning-lightester-2:#fefaf4;--eui-base-color-warning-lightester-2-rgb:#fefaf4;--eui-base-color-warning-lightester-2-contrast:#404040;--eui-base-color-warning-lightester-2-contrast-rgb:#404040;--eui-base-color-danger-darkester:#83141d;--eui-base-color-danger-darkester-rgb:#83141d;--eui-base-color-danger-darkester-contrast:#fff;--eui-base-color-danger-darkester-contrast-rgb:#fff;--eui-base-color-danger-darkest:#991722;--eui-base-color-danger-darkest-rgb:#991722;--eui-base-color-danger-darkest-contrast:#fff;--eui-base-color-danger-darkest-contrast-rgb:#fff;--eui-base-color-danger-darker:#ae1a27;--eui-base-color-danger-darker-rgb:#ae1a27;--eui-base-color-danger-darker-contrast:#fff;--eui-base-color-danger-darker-contrast-rgb:#fff;--eui-base-color-danger-dark:#c41e2c;--eui-base-color-danger-dark-rgb:#c41e2c;--eui-base-color-danger-dark-contrast:#fff;--eui-base-color-danger-dark-contrast-rgb:#fff;--eui-base-color-danger-light:#e35965;--eui-base-color-danger-light-rgb:#e35965;--eui-base-color-danger-light-contrast:#404040;--eui-base-color-danger-light-contrast-rgb:#404040;--eui-base-color-danger-lighter:#ed9098;--eui-base-color-danger-lighter-rgb:#ed9098;--eui-base-color-danger-lighter-contrast:#404040;--eui-base-color-danger-lighter-contrast-rgb:#404040;--eui-base-color-danger-lightest:#f6c8cc;--eui-base-color-danger-lightest-rgb:#f6c8cc;--eui-base-color-danger-lightest-contrast:#404040;--eui-base-color-danger-lightest-contrast-rgb:#404040;--eui-base-color-danger-lightester:#fbe9ea;--eui-base-color-danger-lightester-rgb:#fbe9ea;--eui-base-color-danger-lightester-contrast:#404040;--eui-base-color-danger-lightester-contrast-rgb:#404040;--eui-base-color-danger-lightester-2:#fdf4f5;--eui-base-color-danger-lightester-2-rgb:#fdf4f5;--eui-base-color-danger-lightester-2-contrast:#404040;--eui-base-color-danger-lightester-2-contrast-rgb:#404040;--eui-base-color-text:var(--eui-base-color-grey-100);--eui-base-color-link:var(--eui-base-color-primary-100);--eui-base-color-black:#000;--eui-base-color-white:#fff;--eui-base-color:var(--eui-base-color-grey-100);--eui-base-font-size:16px;--eui-base-font-size-6xl:2.625rem;--eui-base-font-size-5xl:2.25rem;--eui-base-font-size-4xl:2rem;--eui-base-font-size-3xl:1.75rem;--eui-base-font-size-2xl:1.5rem;--eui-base-font-size-xl:1.25rem;--eui-base-font-size-l:1.125rem;--eui-base-font-size-m:1rem;--eui-base-font-size-s:0.875rem;--eui-base-font-size-xs:0.75rem;--eui-base-font-size-2xs:0.625rem;--eui-base-font-family:Arial,Helvetica Neue,Helvetica,sans-serif;--eui-base-font-family-icons:eui-icons,sans-serif;--eui-base-font-family-monospace:Consolas,Liberation Mono,Courier New,monospace;--eui-base-icon-size:1.5rem;--eui-base-icon-size-xs:1rem;--eui-base-icon-size-s:1.25rem;--eui-base-icon-size-m:1.5rem;--eui-base-icon-size-l:2rem;--eui-base-icon-size-xl:2.5rem;--eui-base-icon-size-2xl:3rem;--eui-base-icon-size-3xl:3.5rem;--eui-base-icon-size-4xl:4rem;--eui-base-font-6xl:normal normal 400 2.625rem/3.25rem arial,sans-serif;--eui-base-font-5xl:normal normal 400 2.25rem/2.75rem arial,sans-serif;--eui-base-font-4xl:normal normal 400 2rem/2.5rem arial,sans-serif;--eui-base-font-3xl:normal normal 400 1.75rem/2rem arial,sans-serif;--eui-base-font-2xl:normal normal 400 1.5rem/1.75rem arial,sans-serif;--eui-base-font-xl:normal normal 400 1.25rem/1.5rem arial,sans-serif;--eui-base-font-l:normal normal 400 1.125rem/1.5rem arial,sans-serif;--eui-base-font-m:normal normal 400 1rem/1.25rem arial,sans-serif;--eui-base-font-s:normal normal 400 0.875rem/1rem arial,sans-serif;--eui-base-font-xs:normal normal 400 0.75rem/1rem arial,sans-serif;--eui-base-font-2xs:normal normal 400 0.625rem/1rem arial,sans-serif;--eui-base-font-prolonged-xl:normal normal 400 1.25rem/1.75rem arial,sans-serif;--eui-base-font-prolonged-l:normal normal 400 1.125rem/1.75rem arial,sans-serif;--eui-base-font-prolonged-m:normal normal 400 1rem/1.5rem arial,sans-serif;--eui-base-font-prolonged-s:normal normal 400 0.875rem/1.25rem arial,sans-serif;--eui-base-font-prolonged-xs:normal normal 400 0.75rem/1.25rem arial,sans-serif;--eui-base-spacing-none:0;--eui-base-spacing-2xs:0.25rem;--eui-base-spacing-xs:0.5rem;--eui-base-spacing-s:0.75rem;--eui-base-spacing-m:1rem;--eui-base-spacing-l:1.5rem;--eui-base-spacing-xl:2rem;--eui-base-spacing-2xl:2.5rem;--eui-base-spacing-3xl:3rem;--eui-base-spacing-4xl:4rem;--eui-base-shadow-1:0 2px 1px -1px rgba(0,0,0,0.2),0 1px 1px 0 rgba(0,0,0,0.14),0 1px 3px 0 rgba(0,0,0,0.12);--eui-base-shadow-2:0 3px 1px -2px rgba(0,0,0,0.2),0 2px 2px 0 rgba(0,0,0,0.14),0 1px 5px 0 rgba(0,0,0,0.12);--eui-base-shadow-3:0 3px 1px -2px rgba(0,0,0,0.2),0 3px 4px 0 rgba(0,0,0,0.14),0 1px 8px 0 rgba(0,0,0,0.12);--eui-base-shadow-4:0 2px 4px -1px rgba(0,0,0,0.2),0 4px 5px 0 rgba(0,0,0,0.14),0 1px 10px 0 rgba(0,0,0,0.12);--eui-base-shadow-6:0px 3px 5px -1px rgba(0,0,0,0.2),0px 6px 10px 0px rgba(0,0,0,0.14),0px 1px 18px 0px rgba(0,0,0,0.12);--eui-base-shadow-8:0px 5px 5px -3px rgba(0,0,0,0.2),0px 8px 10px 1px rgba(0,0,0,0.14),0px 3px 14px 2px rgba(0,0,0,0.12);--eui-base-shadow-9:0px 5px 6px -3px rgba(0,0,0,0.2),0px 9px 12px 1px rgba(0,0,0,0.14),0px 3px 16px 2px rgba(0,0,0,0.12);--eui-base-shadow-12:0px 7px 8px -4px rgba(0,0,0,0.2),0px 12px 17px 2px rgba(0,0,0,0.14),0px 5px 22px 4px rgba(0,0,0,0.12);--eui-base-shadow-16:0px 8px 10px -5px rgba(0,0,0,0.2),0px 16px 24px 2px rgba(0,0,0,0.14),0px 6px 30px 5px rgba(0,0,0,0.12);--eui-base-shadow-24:0px 11px 15px -7px rgba(0,0,0,0.2),0px 24px 38px 3px rgba(0,0,0,0.14),0px 9px 46px 8px rgba(0,0,0,0.12);--eui-base-shadow-z-depth-0:0 1px 0 rgba(0,0,0,0.08),0 1px 1px rgba(0,0,0,0.08);--eui-base-shadow-z-depth-1:0 1px 3px rgba(0,0,0,0.12),0 1px 2px rgba(0,0,0,0.24);--eui-base-shadow-z-depth-2:0 3px 6px rgba(0,0,0,0.16),0 3px 6px rgba(0,0,0,0.23);--eui-base-shadow-z-depth-3:0 10px 20px rgba(0,0,0,0.19),0 6px 6px rgba(0,0,0,0.23);--eui-base-shadow-z-depth-4:0 14px 28px rgba(0,0,0,0.25),0 10px 10px rgba(0,0,0,0.22);--eui-base-shadow-z-depth-5:0 19px 38px rgba(0,0,0,0.3),0 15px 12px rgba(0,0,0,0.22);--eui-base-z-index-auto:auto;--eui-base-z-index-zero:0;--eui-base-z-index-root:1;--eui-base-z-index-input-maxlength:2;--eui-base-z-index-header:5;--eui-base-z-index-top-message:8;--eui-base-z-index-nav:10;--eui-base-z-index-clearable-icon:11;--eui-base-z-index-loading-indicator:20;--eui-base-z-index-cdk-overlay-pane:999;--eui-base-z-index-logo:1000;--eui-base-z-index-sticky:1040;--eui-base-z-index-sidebar:1044;--eui-base-z-index-overlay:1045;--eui-base-z-index-btn-floating:1046;--eui-base-z-index-highlighted:1047;--eui-base-z-index-footer-action-bar:1048;--eui-base-z-index-modal-backdrop:1049;--eui-base-z-index-modal:1050;--eui-base-z-index-menu:1060;--eui-base-z-index-tooltip:1070;--eui-base-z-index-max:9999;--eui-base-z-index-cdk-overlay-container:10000;--eui-base-z-index-block-document:10010;--eui-base-z-index-growl-message:99999;--eui-base-line-height:1.25;--eui-base-scale-factor:1;--eui-base-disabled-opacity:0.45;--eui-base-border-radius:3px;--eui-base-border:1px solid var(--eui-base-color-grey-50);--eui-base-border-light:1px solid var(--eui-base-color-grey-75);--eui-base-border-lighter:1px solid var(--eui-base-color-grey-50);--eui-base-border-lightest:1px solid var(--eui-base-color-grey-25);--eui-base-animation-linear-out-slow-in-timing-function:cubic-bezier(0,0,0.2,1);--eui-base-animation-fast-out-slow-in-timing-function:cubic-bezier(0.4,0,0.2,1);--eui-base-animation-fast-out-linear-in-timing-function:cubic-bezier(0.4,0,1,1);--eui-base-animation-ease-timing-function:cubic-bezier(0.25,0.1,0.25,1);--eui-base-animation-ease-in-out-timing-function:ease-in-out;--eui-base-animation-duration-fast:0.25s;--eui-base-animation-duration-medium:0.5s;--eui-base-animation-duration-slow:1s;--eui-base-animation-duration-base:500ms;--eui-base-animation-duration:var(--eui-base-animation-duration-base);--eui-base-animation-transition-base:all 0.2s var(--eui-base-animation-linear-out-slow-in-timing-function);--eui-base-animation-transition-ease:all 0.2s var(--eui-base-animation-ease-timing-function);--eui-base-animation-transition-ease-in-out:all 0.2s var(--eui-base-animation-ease-in-out-timing-function);--eui-base-animation-transition-ease-in-out-1s:all 1s var(--eui-base-animation-ease-in-out-timing-function);--eui-base-animation-delay:0s;--eui-base-animation-direction:normal;--eui-base-animation-fill-mode:forwards;--eui-base-animation-background-color:var(--eui-base-color-primary-50);--eui-base-color-accessible-focus:var(--eui-base-color-accent-110);--eui-app-header-height-default:0px;--eui-app-header-height:0px;--eui-app-header-height-active:90px;--eui-app-header-height-shrink:0px;--eui-app-breadcrumb-height-default:0px;--eui-app-breadcrumb-height:0px;--eui-app-breadcrumb-height-active:20px;--eui-app-top-message-height-default:0px;--eui-app-top-message-height:0px;--eui-app-top-message-height-active:42px;--eui-app-toolbar-height-default:0px;--eui-app-toolbar-height:0px;--eui-app-toolbar-height-active:55px;--eui-app-sidebar-width-default:0px;--eui-app-sidebar-width:0px;--eui-app-sidebar-width-active:300px;--eui-app-sidebar-width-close-default:0px;--eui-app-sidebar-width-close:0px;--eui-app-sidebar-width-close-active:64px;--eui-app-sidebar-header-height:0px;--eui-app-sidebar-header-height-default:0px;--eui-app-sidebar-header-height-active:48px;--eui-app-sidebar-footer-height:0px;--eui-app-sidebar-footer-height-default:0px;--eui-app-sidebar-footer-height-active:24px;--eui-page-header-with-subtitle-height:4rem;--eui-page-header-without-subtitle-height:2rem;--eui-page-column--size-s:50px;--eui-page-column--size-m:150px;--eui-page-column--size-l:200px;--eui-page-column--size-xl:250px;--eui-page-column--size-xxl:300px;--eui-page-column--size-xxxl:350px;--eui-page-column-footer-height:3.5rem;--eui-border-state-width:6px;--eui-app-header-bg-color:var(--eui-base-color-white);--eui-app-header-title-color:var(--eui-base-color-grey-100);--eui-app-header-subtitle-color:var(--eui-base-color-grey-75);--eui-app-toolbar-color:var(--eui-base-color-white);--eui-app-toolbar-bg-color:var(--eui-base-color-primary-100);--eui-app-toolbar-border-bottom-color:var(--eui-base-color-primary-25);--eui-app-sidebar-bg-color:var(--eui-base-color-grey-2);--eui-app-sidebar-border-right-color:#f2f4f9;--eui-app-body-bg-color:var(--eui-base-color-grey-5);--eui-app-main-bg-color:var(--eui-base-color-grey-2);--eui-app-footer-color:var(--eui-base-color-font);--eui-app-footer-bg-color:var(--eui-base-color-grey-2);--eui-app-footer-border-top-color:#e8ebf1}@font-face{font-display:swap;font-family:eui-icons;font-style:normal;font-weight:400;src:url(\\'eui-icons.10e7c75cf83ec555.eot\\');src:url(\\'eui-icons.10e7c75cf83ec555.eot#iefix\\') format(\"embedded-opentype\"),url(\\'eui-icons.c326b3d513bdc74b.woff2?v=2.4\\') format(\"woff2\"),url(\\'eui-icons.07fd7381424395e4.woff?v=2.4\\') format(\"woff\"),url(\\'eui-icons.7552546bf67a35d0.ttf?v=2.4\\') format(\"truetype\"),url(\\'eui-icons.e557e5ebb85d3a25.svg#eui-icons\\') format(\"svg\")}/*!\\n * Bootstrap Grid v5.1.2 (https://getbootstrap.com/)\\n * Copyright 2011-2021 The Bootstrap Authors\\n * Copyright 2011-2021 Twitter, Inc.\\n * Licensed under MIT (https://github.com/twbs/bootstrap/blob/main/LICENSE)\\n */html{--eui-html-font-size:var(--eui-base-font-size);--eui-html-line-height:var(--eui-base-line-height);display:block;font-size:16px;font-size:var(--eui-html-font-size);line-height:1.25;line-height:var(--eui-html-line-height)}body,html{height:100%}body{--eui-body-bg-color:var(--eui-app-body-bg-color);--eui-body-color:var(--eui-base-color);--eui-body-font-family:var(--eui-base-font-family);--eui-body-font-size:var(--eui-base-font-size);--eui-body-line-height:var(--eui-base-line-height);background-color:var(--eui-body-bg-color);color:var(--eui-body-color);font-family:var(--eui-body-font-family);font-feature-settings:\"liga\";font-size:var(--eui-body-font-size);-moz-font-smoothing:antialiased;-webkit-font-smoothing:antialiased;font-style:normal;font-weight:400;line-height:var(--eui-body-line-height);margin:0;text-align:left;text-rendering:optimizeLegibility}@keyframes spin{0%{transform:rotate(0deg)}to{transform:rotate(1turn)}}html{box-sizing:border-box}*,:after,:before{box-sizing:inherit}\\n:root{--eui-base-color-grey-100:#404040;--eui-base-color-grey-100-rgb:#404040;--eui-base-color-grey-100-contrast:#fff;--eui-base-color-grey-100-contrast-rgb:#fff;--eui-base-color-grey-90:#535353;--eui-base-color-grey-90-rgb:#535353;--eui-base-color-grey-90-contrast:#fff;--eui-base-color-grey-90-contrast-rgb:#fff;--eui-base-color-grey-80:#666;--eui-base-color-grey-80-rgb:#666;--eui-base-color-grey-80-contrast:#fff;--eui-base-color-grey-80-contrast-rgb:#fff;--eui-base-color-grey-75:#707070;--eui-base-color-grey-75-rgb:#707070;--eui-base-color-grey-75-contrast:#fff;--eui-base-color-grey-75-contrast-rgb:#fff;--eui-base-color-grey-50:#a0a0a0;--eui-base-color-grey-50-rgb:#a0a0a0;--eui-base-color-grey-50-contrast:#404040;--eui-base-color-grey-50-contrast-rgb:#404040;--eui-base-color-grey-35:#bcbcbc;--eui-base-color-grey-35-rgb:#bcbcbc;--eui-base-color-grey-35-contrast:#404040;--eui-base-color-grey-35-contrast-rgb:#404040;--eui-base-color-grey-25:#cfcfcf;--eui-base-color-grey-25-rgb:#cfcfcf;--eui-base-color-grey-25-contrast:#404040;--eui-base-color-grey-25-contrast-rgb:#404040;--eui-base-color-grey-20:#d9d9d9;--eui-base-color-grey-20-rgb:#d9d9d9;--eui-base-color-grey-20-contrast:#404040;--eui-base-color-grey-20-contrast-rgb:#404040;--eui-base-color-grey-15:#e2e2e2;--eui-base-color-grey-15-rgb:#e2e2e2;--eui-base-color-grey-15-contrast:#404040;--eui-base-color-grey-15-contrast-rgb:#404040;--eui-base-color-grey-10:#ececec;--eui-base-color-grey-10-rgb:#ececec;--eui-base-color-grey-10-contrast:#404040;--eui-base-color-grey-10-contrast-rgb:#404040;--eui-base-color-grey-5:#f5f5f5;--eui-base-color-grey-5-rgb:#f5f5f5;--eui-base-color-grey-5-contrast:#404040;--eui-base-color-grey-5-contrast-rgb:#404040;--eui-base-color-grey-2:#fbfbfb;--eui-base-color-grey-2-rgb:#fbfbfb;--eui-base-color-grey-2-contrast:#404040;--eui-base-color-grey-2-contrast-rgb:#404040;--eui-base-color-primary-140:#002959;--eui-base-color-primary-140-rgb:#002959;--eui-base-color-primary-140-contrast:#fff;--eui-base-color-primary-140-contrast-rgb:#fff;--eui-base-color-primary-130:#003068;--eui-base-color-primary-130-rgb:#003068;--eui-base-color-primary-130-contrast:#fff;--eui-base-color-primary-130-contrast-rgb:#fff;--eui-base-color-primary-120:#003676;--eui-base-color-primary-120-rgb:#003676;--eui-base-color-primary-120-contrast:#fff;--eui-base-color-primary-120-contrast-rgb:#fff;--eui-base-color-primary-110:#003d85;--eui-base-color-primary-110-rgb:#003d85;--eui-base-color-primary-110-contrast:#fff;--eui-base-color-primary-110-contrast-rgb:#fff;--eui-base-color-primary-100:#004494;--eui-base-color-primary-100-rgb:#004494;--eui-base-color-primary-100-contrast:#fff;--eui-base-color-primary-100-contrast-rgb:#fff;--eui-base-color-primary-75:#4073af;--eui-base-color-primary-75-rgb:#4073af;--eui-base-color-primary-75-contrast:#fff;--eui-base-color-primary-75-contrast-rgb:#fff;--eui-base-color-primary-50:#80a2ca;--eui-base-color-primary-50-rgb:#80a2ca;--eui-base-color-primary-50-contrast:#404040;--eui-base-color-primary-50-contrast-rgb:#404040;--eui-base-color-primary-25:#bfd0e4;--eui-base-color-primary-25-rgb:#bfd0e4;--eui-base-color-primary-25-contrast:#404040;--eui-base-color-primary-25-contrast-rgb:#404040;--eui-base-color-primary-10:#e6ecf4;--eui-base-color-primary-10-rgb:#e6ecf4;--eui-base-color-primary-10-contrast:#404040;--eui-base-color-primary-10-contrast-rgb:#404040;--eui-base-color-primary-5:#f2f6fa;--eui-base-color-primary-5-rgb:#f2f6fa;--eui-base-color-primary-5-contrast:#404040;--eui-base-color-primary-5-contrast-rgb:#404040;--eui-base-color-accent-140:#99800e;--eui-base-color-accent-140-rgb:#99800e;--eui-base-color-accent-140-contrast:#404040;--eui-base-color-accent-140-contrast-rgb:#404040;--eui-base-color-accent-130:#b39610;--eui-base-color-accent-130-rgb:#b39610;--eui-base-color-accent-130-contrast:#404040;--eui-base-color-accent-130-contrast-rgb:#404040;--eui-base-color-accent-120:#f8ae21;--eui-base-color-accent-120-rgb:#f8ae21;--eui-base-color-accent-120-contrast:#404040;--eui-base-color-accent-120-contrast-rgb:#404040;--eui-base-color-accent-110:#fbc11d;--eui-base-color-accent-110-rgb:#fbc11d;--eui-base-color-accent-110-contrast:#404040;--eui-base-color-accent-110-contrast-rgb:#404040;--eui-base-color-accent-100:#ffd617;--eui-base-color-accent-100-rgb:#ffd617;--eui-base-color-accent-100-contrast:#404040;--eui-base-color-accent-100-contrast-rgb:#404040;--eui-base-color-accent-75:#ffde39;--eui-base-color-accent-75-rgb:#ffde39;--eui-base-color-accent-75-contrast:#404040;--eui-base-color-accent-75-contrast-rgb:#404040;--eui-base-color-accent-50:#ffe879;--eui-base-color-accent-50-rgb:#ffe879;--eui-base-color-accent-50-contrast:#404040;--eui-base-color-accent-50-contrast-rgb:#404040;--eui-base-color-accent-25:#fff4bb;--eui-base-color-accent-25-rgb:#fff4bb;--eui-base-color-accent-25-contrast:#404040;--eui-base-color-accent-25-contrast-rgb:#404040;--eui-base-color-accent-10:#fffbe8;--eui-base-color-accent-10-rgb:#fffbe8;--eui-base-color-accent-10-contrast:#404040;--eui-base-color-accent-10-contrast-rgb:#404040;--eui-base-color-accent-5:#fffdf3;--eui-base-color-accent-5-rgb:#fffdf3;--eui-base-color-accent-5-contrast:#404040;--eui-base-color-accent-5-contrast-rgb:#404040;--eui-base-color-info-140:#00436c;--eui-base-color-info-140-rgb:#00436c;--eui-base-color-info-140-contrast:#fff;--eui-base-color-info-140-contrast-rgb:#fff;--eui-base-color-info-130:#004e7e;--eui-base-color-info-130-rgb:#004e7e;--eui-base-color-info-130-contrast:#fff;--eui-base-color-info-130-contrast-rgb:#fff;--eui-base-color-info-120:#005990;--eui-base-color-info-120-rgb:#005990;--eui-base-color-info-120-contrast:#fff;--eui-base-color-info-120-contrast-rgb:#fff;--eui-base-color-info-110:#0064a2;--eui-base-color-info-110-rgb:#0064a2;--eui-base-color-info-110-contrast:#fff;--eui-base-color-info-110-contrast-rgb:#fff;--eui-base-color-info-100:#006fb4;--eui-base-color-info-100-rgb:#006fb4;--eui-base-color-info-100-contrast:#fff;--eui-base-color-info-100-contrast-rgb:#fff;--eui-base-color-info-75:#4093c7;--eui-base-color-info-75-rgb:#4093c7;--eui-base-color-info-75-contrast:#fff;--eui-base-color-info-75-contrast-rgb:#fff;--eui-base-color-info-50:#80b7da;--eui-base-color-info-50-rgb:#80b7da;--eui-base-color-info-50-contrast:#404040;--eui-base-color-info-50-contrast-rgb:#404040;--eui-base-color-info-25:#bfdbec;--eui-base-color-info-25-rgb:#bfdbec;--eui-base-color-info-25-contrast:#404040;--eui-base-color-info-25-contrast-rgb:#404040;--eui-base-color-info-10:#e6f1f8;--eui-base-color-info-10-rgb:#e6f1f8;--eui-base-color-info-10-contrast:#404040;--eui-base-color-info-10-contrast-rgb:#404040;--eui-base-color-info-5:#f2f8fb;--eui-base-color-info-5-rgb:#f2f8fb;--eui-base-color-info-5-contrast:#404040;--eui-base-color-info-5-contrast-rgb:#404040;--eui-base-color-success-140:#2a4922;--eui-base-color-success-140-rgb:#2a4922;--eui-base-color-success-140-contrast:#fff;--eui-base-color-success-140-contrast-rgb:#fff;--eui-base-color-success-130:#315528;--eui-base-color-success-130-rgb:#315528;--eui-base-color-success-130-contrast:#fff;--eui-base-color-success-130-contrast-rgb:#fff;--eui-base-color-success-120:#38622e;--eui-base-color-success-120-rgb:#38622e;--eui-base-color-success-120-contrast:#fff;--eui-base-color-success-120-contrast-rgb:#fff;--eui-base-color-success-110:#3f6e33;--eui-base-color-success-110-rgb:#3f6e33;--eui-base-color-success-110-contrast:#fff;--eui-base-color-success-110-contrast-rgb:#fff;--eui-base-color-success-100:#467a39;--eui-base-color-success-100-rgb:#467a39;--eui-base-color-success-100-contrast:#fff;--eui-base-color-success-100-contrast-rgb:#fff;--eui-base-color-success-75:#749b6b;--eui-base-color-success-75-rgb:#749b6b;--eui-base-color-success-75-contrast:#404040;--eui-base-color-success-75-contrast-rgb:#404040;--eui-base-color-success-50:#a3bd9c;--eui-base-color-success-50-rgb:#a3bd9c;--eui-base-color-success-50-contrast:#404040;--eui-base-color-success-50-contrast-rgb:#404040;--eui-base-color-success-25:#d1dece;--eui-base-color-success-25-rgb:#d1dece;--eui-base-color-success-25-contrast:#404040;--eui-base-color-success-25-contrast-rgb:#404040;--eui-base-color-success-10:#edf2eb;--eui-base-color-success-10-rgb:#edf2eb;--eui-base-color-success-10-contrast:#404040;--eui-base-color-success-10-contrast-rgb:#404040;--eui-base-color-success-5:#f6f8f5;--eui-base-color-success-5-rgb:#f6f8f5;--eui-base-color-success-5-contrast:#404040;--eui-base-color-success-5-contrast-rgb:#404040;--eui-base-color-warning-140:#915917;--eui-base-color-warning-140-rgb:#915917;--eui-base-color-warning-140-contrast:#fff;--eui-base-color-warning-140-contrast-rgb:#fff;--eui-base-color-warning-130:#a9681b;--eui-base-color-warning-130-rgb:#a9681b;--eui-base-color-warning-130-contrast:#fff;--eui-base-color-warning-130-contrast-rgb:#fff;--eui-base-color-warning-120:#c2771f;--eui-base-color-warning-120-rgb:#c2771f;--eui-base-color-warning-120-contrast:#404040;--eui-base-color-warning-120-contrast-rgb:#404040;--eui-base-color-warning-110:#da8623;--eui-base-color-warning-110-rgb:#da8623;--eui-base-color-warning-110-contrast:#404040;--eui-base-color-warning-110-contrast-rgb:#404040;--eui-base-color-warning-100:#f29527;--eui-base-color-warning-100-rgb:#f29527;--eui-base-color-warning-100-contrast:#404040;--eui-base-color-warning-100-contrast-rgb:#404040;--eui-base-color-warning-75:#f5b05d;--eui-base-color-warning-75-rgb:#f5b05d;--eui-base-color-warning-75-contrast:#404040;--eui-base-color-warning-75-contrast-rgb:#404040;--eui-base-color-warning-50:#f9ca93;--eui-base-color-warning-50-rgb:#f9ca93;--eui-base-color-warning-50-contrast:#404040;--eui-base-color-warning-50-contrast-rgb:#404040;--eui-base-color-warning-25:#fce5c9;--eui-base-color-warning-25-rgb:#fce5c9;--eui-base-color-warning-25-contrast:#404040;--eui-base-color-warning-25-contrast-rgb:#404040;--eui-base-color-warning-10:#fef4e9;--eui-base-color-warning-10-rgb:#fef4e9;--eui-base-color-warning-10-contrast:#404040;--eui-base-color-warning-10-contrast-rgb:#404040;--eui-base-color-warning-5:#fefaf4;--eui-base-color-warning-5-rgb:#fefaf4;--eui-base-color-warning-5-contrast:#404040;--eui-base-color-warning-5-contrast-rgb:#404040;--eui-base-color-danger-140:#83141d;--eui-base-color-danger-140-rgb:#83141d;--eui-base-color-danger-140-contrast:#fff;--eui-base-color-danger-140-contrast-rgb:#fff;--eui-base-color-danger-130:#991722;--eui-base-color-danger-130-rgb:#991722;--eui-base-color-danger-130-contrast:#fff;--eui-base-color-danger-130-contrast-rgb:#fff;--eui-base-color-danger-120:#ae1a27;--eui-base-color-danger-120-rgb:#ae1a27;--eui-base-color-danger-120-contrast:#fff;--eui-base-color-danger-120-contrast-rgb:#fff;--eui-base-color-danger-110:#c41e2c;--eui-base-color-danger-110-rgb:#c41e2c;--eui-base-color-danger-110-contrast:#fff;--eui-base-color-danger-110-contrast-rgb:#fff;--eui-base-color-danger-100:#da2131;--eui-base-color-danger-100-rgb:#da2131;--eui-base-color-danger-100-contrast:#fff;--eui-base-color-danger-100-contrast-rgb:#fff;--eui-base-color-danger-75:#e35965;--eui-base-color-danger-75-rgb:#e35965;--eui-base-color-danger-75-contrast:#404040;--eui-base-color-danger-75-contrast-rgb:#404040;--eui-base-color-danger-50:#ed9098;--eui-base-color-danger-50-rgb:#ed9098;--eui-base-color-danger-50-contrast:#404040;--eui-base-color-danger-50-contrast-rgb:#404040;--eui-base-color-danger-25:#f6c8cc;--eui-base-color-danger-25-rgb:#f6c8cc;--eui-base-color-danger-25-contrast:#404040;--eui-base-color-danger-25-contrast-rgb:#404040;--eui-base-color-danger-10:#fbe9ea;--eui-base-color-danger-10-rgb:#fbe9ea;--eui-base-color-danger-10-contrast:#404040;--eui-base-color-danger-10-contrast-rgb:#404040;--eui-base-color-danger-5:#fdf4f5;--eui-base-color-danger-5-rgb:#fdf4f5;--eui-base-color-danger-5-contrast:#404040;--eui-base-color-danger-5-contrast-rgb:#404040;--eui-base-color-grey:#a0a0a0;--eui-base-color-primary:#004494;--eui-base-color-accent:#ffd617;--eui-base-color-info:#006fb4;--eui-base-color-success:#467a39;--eui-base-color-warning:#f29527;--eui-base-color-danger:#da2131;--eui-base-color-primary-darkester:#002959;--eui-base-color-primary-darkester-rgb:#002959;--eui-base-color-primary-darkester-contrast:#fff;--eui-base-color-primary-darkester-contrast-rgb:#fff;--eui-base-color-primary-darkest:#003068;--eui-base-color-primary-darkest-rgb:#003068;--eui-base-color-primary-darkest-contrast:#fff;--eui-base-color-primary-darkest-contrast-rgb:#fff;--eui-base-color-primary-darker:#003676;--eui-base-color-primary-darker-rgb:#003676;--eui-base-color-primary-darker-contrast:#fff;--eui-base-color-primary-darker-contrast-rgb:#fff;--eui-base-color-primary-dark:#003d85;--eui-base-color-primary-dark-rgb:#003d85;--eui-base-color-primary-dark-contrast:#fff;--eui-base-color-primary-dark-contrast-rgb:#fff;--eui-base-color-primary-light:#4073af;--eui-base-color-primary-light-rgb:#4073af;--eui-base-color-primary-light-contrast:#fff;--eui-base-color-primary-light-contrast-rgb:#fff;--eui-base-color-primary-lighter:#80a2ca;--eui-base-color-primary-lighter-rgb:#80a2ca;--eui-base-color-primary-lighter-contrast:#404040;--eui-base-color-primary-lighter-contrast-rgb:#404040;--eui-base-color-primary-lightest:#bfd0e4;--eui-base-color-primary-lightest-rgb:#bfd0e4;--eui-base-color-primary-lightest-contrast:#404040;--eui-base-color-primary-lightest-contrast-rgb:#404040;--eui-base-color-primary-lightester:#e6ecf4;--eui-base-color-primary-lightester-rgb:#e6ecf4;--eui-base-color-primary-lightester-contrast:#404040;--eui-base-color-primary-lightester-contrast-rgb:#404040;--eui-base-color-primary-lightester-2:#f2f6fa;--eui-base-color-primary-lightester-2-rgb:#f2f6fa;--eui-base-color-primary-lightester-2-contrast:#404040;--eui-base-color-primary-lightester-2-contrast-rgb:#404040;--eui-base-color-info-darkester:#00436c;--eui-base-color-info-darkester-rgb:#00436c;--eui-base-color-info-darkester-contrast:#fff;--eui-base-color-info-darkester-contrast-rgb:#fff;--eui-base-color-info-darkest:#004e7e;--eui-base-color-info-darkest-rgb:#004e7e;--eui-base-color-info-darkest-contrast:#fff;--eui-base-color-info-darkest-contrast-rgb:#fff;--eui-base-color-info-darker:#005990;--eui-base-color-info-darker-rgb:#005990;--eui-base-color-info-darker-contrast:#fff;--eui-base-color-info-darker-contrast-rgb:#fff;--eui-base-color-info-dark:#0064a2;--eui-base-color-info-dark-rgb:#0064a2;--eui-base-color-info-dark-contrast:#fff;--eui-base-color-info-dark-contrast-rgb:#fff;--eui-base-color-info-light:#4093c7;--eui-base-color-info-light-rgb:#4093c7;--eui-base-color-info-light-contrast:#fff;--eui-base-color-info-light-contrast-rgb:#fff;--eui-base-color-info-lighter:#80b7da;--eui-base-color-info-lighter-rgb:#80b7da;--eui-base-color-info-lighter-contrast:#404040;--eui-base-color-info-lighter-contrast-rgb:#404040;--eui-base-color-info-lightest:#bfdbec;--eui-base-color-info-lightest-rgb:#bfdbec;--eui-base-color-info-lightest-contrast:#404040;--eui-base-color-info-lightest-contrast-rgb:#404040;--eui-base-color-info-lightester:#e6f1f8;--eui-base-color-info-lightester-rgb:#e6f1f8;--eui-base-color-info-lightester-contrast:#404040;--eui-base-color-info-lightester-contrast-rgb:#404040;--eui-base-color-info-lightester-2:#f2f8fb;--eui-base-color-info-lightester-2-rgb:#f2f8fb;--eui-base-color-info-lightester-2-contrast:#404040;--eui-base-color-info-lightester-2-contrast-rgb:#404040;--eui-base-color-success-darkester:#2a4922;--eui-base-color-success-darkester-rgb:#2a4922;--eui-base-color-success-darkester-contrast:#fff;--eui-base-color-success-darkester-contrast-rgb:#fff;--eui-base-color-success-darkest:#315528;--eui-base-color-success-darkest-rgb:#315528;--eui-base-color-success-darkest-contrast:#fff;--eui-base-color-success-darkest-contrast-rgb:#fff;--eui-base-color-success-darker:#38622e;--eui-base-color-success-darker-rgb:#38622e;--eui-base-color-success-darker-contrast:#fff;--eui-base-color-success-darker-contrast-rgb:#fff;--eui-base-color-success-dark:#3f6e33;--eui-base-color-success-dark-rgb:#3f6e33;--eui-base-color-success-dark-contrast:#fff;--eui-base-color-success-dark-contrast-rgb:#fff;--eui-base-color-success-light:#749b6b;--eui-base-color-success-light-rgb:#749b6b;--eui-base-color-success-light-contrast:#404040;--eui-base-color-success-light-contrast-rgb:#404040;--eui-base-color-success-lighter:#a3bd9c;--eui-base-color-success-lighter-rgb:#a3bd9c;--eui-base-color-success-lighter-contrast:#404040;--eui-base-color-success-lighter-contrast-rgb:#404040;--eui-base-color-success-lightest:#d1dece;--eui-base-color-success-lightest-rgb:#d1dece;--eui-base-color-success-lightest-contrast:#404040;--eui-base-color-success-lightest-contrast-rgb:#404040;--eui-base-color-success-lightester:#edf2eb;--eui-base-color-success-lightester-rgb:#edf2eb;--eui-base-color-success-lightester-contrast:#404040;--eui-base-color-success-lightester-contrast-rgb:#404040;--eui-base-color-success-lightester-2:#f6f8f5;--eui-base-color-success-lightester-2-rgb:#f6f8f5;--eui-base-color-success-lightester-2-contrast:#404040;--eui-base-color-success-lightester-2-contrast-rgb:#404040;--eui-base-color-warning-darkester:#915917;--eui-base-color-warning-darkester-rgb:#915917;--eui-base-color-warning-darkester-contrast:#fff;--eui-base-color-warning-darkester-contrast-rgb:#fff;--eui-base-color-warning-darkest:#a9681b;--eui-base-color-warning-darkest-rgb:#a9681b;--eui-base-color-warning-darkest-contrast:#fff;--eui-base-color-warning-darkest-contrast-rgb:#fff;--eui-base-color-warning-darker:#c2771f;--eui-base-color-warning-darker-rgb:#c2771f;--eui-base-color-warning-darker-contrast:#404040;--eui-base-color-warning-darker-contrast-rgb:#404040;--eui-base-color-warning-dark:#da8623;--eui-base-color-warning-dark-rgb:#da8623;--eui-base-color-warning-dark-contrast:#404040;--eui-base-color-warning-dark-contrast-rgb:#404040;--eui-base-color-warning-light:#f5b05d;--eui-base-color-warning-light-rgb:#f5b05d;--eui-base-color-warning-light-contrast:#404040;--eui-base-color-warning-light-contrast-rgb:#404040;--eui-base-color-warning-lighter:#f9ca93;--eui-base-color-warning-lighter-rgb:#f9ca93;--eui-base-color-warning-lighter-contrast:#404040;--eui-base-color-warning-lighter-contrast-rgb:#404040;--eui-base-color-warning-lightest:#fce5c9;--eui-base-color-warning-lightest-rgb:#fce5c9;--eui-base-color-warning-lightest-contrast:#404040;--eui-base-color-warning-lightest-contrast-rgb:#404040;--eui-base-color-warning-lightester:#fef4e9;--'"
      ]
     },
     "execution_count": 6,
     "metadata": {},
     "output_type": "execute_result"
    }
   ],
   "source": [
    "import requests\n",
    "from bs4 import BeautifulSoup\n",
    "\n",
    "# URL of the first page of the job listings\n",
    "url = 'https://europa.eu/eures/portal/jv-se/search?page=1&resultsPerPage=20&orderBy=BEST_MATCH&locationCodes=fi&lang=en'\n",
    "\n",
    "# Send a request to the website\n",
    "response = requests.get(url)\n",
    "\n",
    "# Initialize a variable to store the HTML content if the request is successful\n",
    "html_content = None\n",
    "\n",
    "# Check if the request was successful\n",
    "if response.status_code == 200:\n",
    "    html_content = response.content\n",
    "else:\n",
    "    print(f\"Failed to retrieve data: Status code {response.status_code}\")\n",
    "\n",
    "html_content[:50000]  # Display the first 500 characters of the HTML content for inspection\n"
   ]
  },
  {
   "cell_type": "code",
   "execution_count": 33,
   "id": "e7a64936",
   "metadata": {},
   "outputs": [
    {
     "name": "stdout",
     "output_type": "stream",
     "text": [
      "No h3 tag with the specified class found.\n"
     ]
    }
   ],
   "source": [
    "from bs4 import BeautifulSoup\n",
    "import requests\n",
    "\n",
    "# The URL you provided\n",
    "url = 'https://europa.eu/eures/portal/jv-se/search?page=1&resultsPerPage=10&orderBy=BEST_MATCH&locationCodes=fi&lang=en'\n",
    "\n",
    "# Send a GET request to the website\n",
    "response = requests.get(url)\n",
    "\n",
    "# If the response was successful, parse the HTML\n",
    "if response.status_code == 200:\n",
    "    soup = BeautifulSoup(response.content, 'html.parser')\n",
    "    \n",
    "    # Find the h3 tag with the specific class\n",
    "    h3_tag = soup.find('h3', class_='ecl-u-type-prolonged-m ecl-u-type-bold ecl-u-mb-none')\n",
    "    \n",
    "    # Check if the h3 tag was found\n",
    "    if h3_tag:\n",
    "        # Find the 'a' tag within it\n",
    "        job_title_tag = h3_tag.find('a')\n",
    "        # Extract the text from the 'a' tag\n",
    "        if job_title_tag:\n",
    "            job_title = job_title_tag.get_text(strip=True)\n",
    "            print(job_title)\n",
    "        else:\n",
    "            print(\"Job title 'a' tag not found within the h3 tag.\")\n",
    "    else:\n",
    "        print(\"No h3 tag with the specified class found.\")\n",
    "\n",
    "else:\n",
    "    print(f\"Error fetching the page: {response.status_code} - {response.reason}\")\n"
   ]
  },
  {
   "cell_type": "code",
   "execution_count": 53,
   "id": "2fafb329",
   "metadata": {},
   "outputs": [],
   "source": [
    "url = 'https://europa.eu/eures/portal/jv-se/search?page=1&resultsPerPage=20&orderBy=BEST_MATCH&locationCodes=fi&lang=en'\n",
    "response = requests.get(url)\n",
    "soup = BeautifulSoup(response.text, 'html.parser')\n",
    "cards = soup.find_all('span', 'jv-result-employer')"
   ]
  },
  {
   "cell_type": "code",
   "execution_count": 54,
   "id": "2bddb9b5",
   "metadata": {},
   "outputs": [
    {
     "data": {
      "text/plain": [
       "[]"
      ]
     },
     "execution_count": 54,
     "metadata": {},
     "output_type": "execute_result"
    }
   ],
   "source": [
    "cards"
   ]
  },
  {
   "cell_type": "code",
   "execution_count": 90,
   "id": "5970fcd2",
   "metadata": {},
   "outputs": [],
   "source": [
    "import requests\n",
    "from bs4 import BeautifulSoup\n",
    "import pandas as pd\n",
    "\n",
    "def scrape_page(offset):\n",
    "    url = f'https://cv.ee/et/search?countries%5B0%5D=1&params%5B0%5D=country&params%5B1%5D=eesti&offset={offset}'\n",
    "    response = requests.get(url)\n",
    "    soup = BeautifulSoup(response.text, 'html.parser')\n",
    "    job_listings = soup.find_all('div', class_='vacancy-item__info')\n",
    "\n",
    "    results = []\n",
    "    for job in job_listings:\n",
    "        title_element = job.find('span', class_='vacancy-item__title')\n",
    "        title = title_element.get_text().strip() if title_element else 'No Title Found'\n",
    "\n",
    "        employer_element = job.find('a', class_='jsx-3024910437')\n",
    "        employer = employer_element.get_text().strip() if employer_element else 'No Employer Found'\n",
    "\n",
    "        salary_element = job.find('span', class_='vacancy-item__salary-label')\n",
    "        salary = salary_element.get_text().strip() if salary_element else 'No Salary Info'\n",
    "\n",
    "        location_element = job.find('div', class_='vacancy-item__column vacancy-item__locations')\n",
    "        if location_element:\n",
    "            span_element = location_element.find('span', class_='hide-mobile dashed-span')\n",
    "            location = span_element.next_sibling.strip() if span_element and span_element.next_sibling else 'No Location Info'\n",
    "        else:\n",
    "            location = 'No Location Info'\n",
    "\n",
    "\n",
    "\n",
    "\n",
    "        results.append({'Title': title, 'Employer': employer, 'Salary': salary, 'Location': location})\n",
    "\n",
    "    return results\n",
    "\n",
    "def scrape_all_pages(max_pages):\n",
    "    all_results = []\n",
    "    for i in range(max_pages):\n",
    "        offset = i * 20\n",
    "        page_results = scrape_page(offset)\n",
    "        all_results.extend(page_results)\n",
    "    return all_results\n",
    "\n",
    "# Scrape data\n",
    "max_pages_to_scrape = 80  # Adjust this number as needed\n",
    "data = scrape_all_pages(max_pages_to_scrape)\n",
    "\n",
    "# Convert to pandas DataFrame\n",
    "df = pd.DataFrame(data)\n"
   ]
  },
  {
   "cell_type": "code",
   "execution_count": 91,
   "id": "2b312abf",
   "metadata": {},
   "outputs": [],
   "source": [
    "df = pd.DataFrame(data)\n",
    "\n"
   ]
  },
  {
   "cell_type": "code",
   "execution_count": 102,
   "id": "6b5fccb2",
   "metadata": {},
   "outputs": [],
   "source": [
    "cvdf = df.drop(columns=['Location'])"
   ]
  },
  {
   "cell_type": "code",
   "execution_count": 105,
   "id": "27c56363",
   "metadata": {},
   "outputs": [
    {
     "ename": "ValueError",
     "evalue": "could not convert string to float: 'No Salary Info'",
     "output_type": "error",
     "traceback": [
      "\u001b[1;31m---------------------------------------------------------------------------\u001b[0m",
      "\u001b[1;31mValueError\u001b[0m                                Traceback (most recent call last)",
      "Cell \u001b[1;32mIn[105], line 10\u001b[0m\n\u001b[0;32m      7\u001b[0m df[\u001b[38;5;124m'\u001b[39m\u001b[38;5;124mSalary\u001b[39m\u001b[38;5;124m'\u001b[39m] \u001b[38;5;241m=\u001b[39m df[\u001b[38;5;124m'\u001b[39m\u001b[38;5;124mSalary\u001b[39m\u001b[38;5;124m'\u001b[39m]\u001b[38;5;241m.\u001b[39mstr\u001b[38;5;241m.\u001b[39mreplace(\u001b[38;5;124m'\u001b[39m\u001b[38;5;124m€\u001b[39m\u001b[38;5;124m'\u001b[39m, \u001b[38;5;124m'\u001b[39m\u001b[38;5;124m'\u001b[39m)\u001b[38;5;241m.\u001b[39mstr\u001b[38;5;241m.\u001b[39msplit(\u001b[38;5;124m'\u001b[39m\u001b[38;5;124m – \u001b[39m\u001b[38;5;124m'\u001b[39m)\n\u001b[0;32m      9\u001b[0m \u001b[38;5;66;03m# Convert to average of the range\u001b[39;00m\n\u001b[1;32m---> 10\u001b[0m df[\u001b[38;5;124m'\u001b[39m\u001b[38;5;124mSalary\u001b[39m\u001b[38;5;124m'\u001b[39m] \u001b[38;5;241m=\u001b[39m \u001b[43mdf\u001b[49m\u001b[43m[\u001b[49m\u001b[38;5;124;43m'\u001b[39;49m\u001b[38;5;124;43mSalary\u001b[39;49m\u001b[38;5;124;43m'\u001b[39;49m\u001b[43m]\u001b[49m\u001b[38;5;241;43m.\u001b[39;49m\u001b[43mapply\u001b[49m\u001b[43m(\u001b[49m\u001b[38;5;28;43;01mlambda\u001b[39;49;00m\u001b[43m \u001b[49m\u001b[43mx\u001b[49m\u001b[43m:\u001b[49m\u001b[43m \u001b[49m\u001b[43m(\u001b[49m\u001b[38;5;28;43mfloat\u001b[39;49m\u001b[43m(\u001b[49m\u001b[43mx\u001b[49m\u001b[43m[\u001b[49m\u001b[38;5;241;43m0\u001b[39;49m\u001b[43m]\u001b[49m\u001b[43m)\u001b[49m\u001b[43m \u001b[49m\u001b[38;5;241;43m+\u001b[39;49m\u001b[43m \u001b[49m\u001b[38;5;28;43mfloat\u001b[39;49m\u001b[43m(\u001b[49m\u001b[43mx\u001b[49m\u001b[43m[\u001b[49m\u001b[38;5;241;43m1\u001b[39;49m\u001b[43m]\u001b[49m\u001b[43m)\u001b[49m\u001b[43m)\u001b[49m\u001b[43m \u001b[49m\u001b[38;5;241;43m/\u001b[39;49m\u001b[43m \u001b[49m\u001b[38;5;241;43m2\u001b[39;49m\u001b[43m \u001b[49m\u001b[38;5;28;43;01mif\u001b[39;49;00m\u001b[43m \u001b[49m\u001b[38;5;28;43misinstance\u001b[39;49m\u001b[43m(\u001b[49m\u001b[43mx\u001b[49m\u001b[43m,\u001b[49m\u001b[43m \u001b[49m\u001b[38;5;28;43mlist\u001b[39;49m\u001b[43m)\u001b[49m\u001b[43m \u001b[49m\u001b[38;5;28;43;01melse\u001b[39;49;00m\u001b[43m \u001b[49m\u001b[38;5;28;43mfloat\u001b[39;49m\u001b[43m(\u001b[49m\u001b[43mx\u001b[49m\u001b[43m)\u001b[49m\u001b[43m)\u001b[49m\n",
      "File \u001b[1;32m~\\anaconda3\\lib\\site-packages\\pandas\\core\\series.py:4765\u001b[0m, in \u001b[0;36mSeries.apply\u001b[1;34m(self, func, convert_dtype, args, by_row, **kwargs)\u001b[0m\n\u001b[0;32m   4625\u001b[0m \u001b[38;5;28;01mdef\u001b[39;00m \u001b[38;5;21mapply\u001b[39m(\n\u001b[0;32m   4626\u001b[0m     \u001b[38;5;28mself\u001b[39m,\n\u001b[0;32m   4627\u001b[0m     func: AggFuncType,\n\u001b[1;32m   (...)\u001b[0m\n\u001b[0;32m   4632\u001b[0m     \u001b[38;5;241m*\u001b[39m\u001b[38;5;241m*\u001b[39mkwargs,\n\u001b[0;32m   4633\u001b[0m ) \u001b[38;5;241m-\u001b[39m\u001b[38;5;241m>\u001b[39m DataFrame \u001b[38;5;241m|\u001b[39m Series:\n\u001b[0;32m   4634\u001b[0m     \u001b[38;5;124;03m\"\"\"\u001b[39;00m\n\u001b[0;32m   4635\u001b[0m \u001b[38;5;124;03m    Invoke function on values of Series.\u001b[39;00m\n\u001b[0;32m   4636\u001b[0m \n\u001b[1;32m   (...)\u001b[0m\n\u001b[0;32m   4756\u001b[0m \u001b[38;5;124;03m    dtype: float64\u001b[39;00m\n\u001b[0;32m   4757\u001b[0m \u001b[38;5;124;03m    \"\"\"\u001b[39;00m\n\u001b[0;32m   4758\u001b[0m     \u001b[38;5;28;01mreturn\u001b[39;00m \u001b[43mSeriesApply\u001b[49m\u001b[43m(\u001b[49m\n\u001b[0;32m   4759\u001b[0m \u001b[43m        \u001b[49m\u001b[38;5;28;43mself\u001b[39;49m\u001b[43m,\u001b[49m\n\u001b[0;32m   4760\u001b[0m \u001b[43m        \u001b[49m\u001b[43mfunc\u001b[49m\u001b[43m,\u001b[49m\n\u001b[0;32m   4761\u001b[0m \u001b[43m        \u001b[49m\u001b[43mconvert_dtype\u001b[49m\u001b[38;5;241;43m=\u001b[39;49m\u001b[43mconvert_dtype\u001b[49m\u001b[43m,\u001b[49m\n\u001b[0;32m   4762\u001b[0m \u001b[43m        \u001b[49m\u001b[43mby_row\u001b[49m\u001b[38;5;241;43m=\u001b[39;49m\u001b[43mby_row\u001b[49m\u001b[43m,\u001b[49m\n\u001b[0;32m   4763\u001b[0m \u001b[43m        \u001b[49m\u001b[43margs\u001b[49m\u001b[38;5;241;43m=\u001b[39;49m\u001b[43margs\u001b[49m\u001b[43m,\u001b[49m\n\u001b[0;32m   4764\u001b[0m \u001b[43m        \u001b[49m\u001b[43mkwargs\u001b[49m\u001b[38;5;241;43m=\u001b[39;49m\u001b[43mkwargs\u001b[49m\u001b[43m,\u001b[49m\n\u001b[1;32m-> 4765\u001b[0m \u001b[43m    \u001b[49m\u001b[43m)\u001b[49m\u001b[38;5;241;43m.\u001b[39;49m\u001b[43mapply\u001b[49m\u001b[43m(\u001b[49m\u001b[43m)\u001b[49m\n",
      "File \u001b[1;32m~\\anaconda3\\lib\\site-packages\\pandas\\core\\apply.py:1201\u001b[0m, in \u001b[0;36mSeriesApply.apply\u001b[1;34m(self)\u001b[0m\n\u001b[0;32m   1198\u001b[0m     \u001b[38;5;28;01mreturn\u001b[39;00m \u001b[38;5;28mself\u001b[39m\u001b[38;5;241m.\u001b[39mapply_compat()\n\u001b[0;32m   1200\u001b[0m \u001b[38;5;66;03m# self.func is Callable\u001b[39;00m\n\u001b[1;32m-> 1201\u001b[0m \u001b[38;5;28;01mreturn\u001b[39;00m \u001b[38;5;28;43mself\u001b[39;49m\u001b[38;5;241;43m.\u001b[39;49m\u001b[43mapply_standard\u001b[49m\u001b[43m(\u001b[49m\u001b[43m)\u001b[49m\n",
      "File \u001b[1;32m~\\anaconda3\\lib\\site-packages\\pandas\\core\\apply.py:1281\u001b[0m, in \u001b[0;36mSeriesApply.apply_standard\u001b[1;34m(self)\u001b[0m\n\u001b[0;32m   1275\u001b[0m \u001b[38;5;66;03m# row-wise access\u001b[39;00m\n\u001b[0;32m   1276\u001b[0m \u001b[38;5;66;03m# apply doesn't have a `na_action` keyword and for backward compat reasons\u001b[39;00m\n\u001b[0;32m   1277\u001b[0m \u001b[38;5;66;03m# we need to give `na_action=\"ignore\"` for categorical data.\u001b[39;00m\n\u001b[0;32m   1278\u001b[0m \u001b[38;5;66;03m# TODO: remove the `na_action=\"ignore\"` when that default has been changed in\u001b[39;00m\n\u001b[0;32m   1279\u001b[0m \u001b[38;5;66;03m#  Categorical (GH51645).\u001b[39;00m\n\u001b[0;32m   1280\u001b[0m action \u001b[38;5;241m=\u001b[39m \u001b[38;5;124m\"\u001b[39m\u001b[38;5;124mignore\u001b[39m\u001b[38;5;124m\"\u001b[39m \u001b[38;5;28;01mif\u001b[39;00m \u001b[38;5;28misinstance\u001b[39m(obj\u001b[38;5;241m.\u001b[39mdtype, CategoricalDtype) \u001b[38;5;28;01melse\u001b[39;00m \u001b[38;5;28;01mNone\u001b[39;00m\n\u001b[1;32m-> 1281\u001b[0m mapped \u001b[38;5;241m=\u001b[39m \u001b[43mobj\u001b[49m\u001b[38;5;241;43m.\u001b[39;49m\u001b[43m_map_values\u001b[49m\u001b[43m(\u001b[49m\n\u001b[0;32m   1282\u001b[0m \u001b[43m    \u001b[49m\u001b[43mmapper\u001b[49m\u001b[38;5;241;43m=\u001b[39;49m\u001b[43mcurried\u001b[49m\u001b[43m,\u001b[49m\u001b[43m \u001b[49m\u001b[43mna_action\u001b[49m\u001b[38;5;241;43m=\u001b[39;49m\u001b[43maction\u001b[49m\u001b[43m,\u001b[49m\u001b[43m \u001b[49m\u001b[43mconvert\u001b[49m\u001b[38;5;241;43m=\u001b[39;49m\u001b[38;5;28;43mself\u001b[39;49m\u001b[38;5;241;43m.\u001b[39;49m\u001b[43mconvert_dtype\u001b[49m\n\u001b[0;32m   1283\u001b[0m \u001b[43m\u001b[49m\u001b[43m)\u001b[49m\n\u001b[0;32m   1285\u001b[0m \u001b[38;5;28;01mif\u001b[39;00m \u001b[38;5;28mlen\u001b[39m(mapped) \u001b[38;5;129;01mand\u001b[39;00m \u001b[38;5;28misinstance\u001b[39m(mapped[\u001b[38;5;241m0\u001b[39m], ABCSeries):\n\u001b[0;32m   1286\u001b[0m     warnings\u001b[38;5;241m.\u001b[39mwarn(\n\u001b[0;32m   1287\u001b[0m         \u001b[38;5;124m\"\u001b[39m\u001b[38;5;124mReturning a DataFrame from Series.apply when the supplied function \u001b[39m\u001b[38;5;124m\"\u001b[39m\n\u001b[0;32m   1288\u001b[0m         \u001b[38;5;124m\"\u001b[39m\u001b[38;5;124mreturns a Series is deprecated and will be removed in a future \u001b[39m\u001b[38;5;124m\"\u001b[39m\n\u001b[1;32m   (...)\u001b[0m\n\u001b[0;32m   1291\u001b[0m         stacklevel\u001b[38;5;241m=\u001b[39mfind_stack_level(),\n\u001b[0;32m   1292\u001b[0m     )  \u001b[38;5;66;03m# GH52116\u001b[39;00m\n",
      "File \u001b[1;32m~\\anaconda3\\lib\\site-packages\\pandas\\core\\base.py:921\u001b[0m, in \u001b[0;36mIndexOpsMixin._map_values\u001b[1;34m(self, mapper, na_action, convert)\u001b[0m\n\u001b[0;32m    918\u001b[0m \u001b[38;5;28;01mif\u001b[39;00m \u001b[38;5;28misinstance\u001b[39m(arr, ExtensionArray):\n\u001b[0;32m    919\u001b[0m     \u001b[38;5;28;01mreturn\u001b[39;00m arr\u001b[38;5;241m.\u001b[39mmap(mapper, na_action\u001b[38;5;241m=\u001b[39mna_action)\n\u001b[1;32m--> 921\u001b[0m \u001b[38;5;28;01mreturn\u001b[39;00m \u001b[43malgorithms\u001b[49m\u001b[38;5;241;43m.\u001b[39;49m\u001b[43mmap_array\u001b[49m\u001b[43m(\u001b[49m\u001b[43marr\u001b[49m\u001b[43m,\u001b[49m\u001b[43m \u001b[49m\u001b[43mmapper\u001b[49m\u001b[43m,\u001b[49m\u001b[43m \u001b[49m\u001b[43mna_action\u001b[49m\u001b[38;5;241;43m=\u001b[39;49m\u001b[43mna_action\u001b[49m\u001b[43m,\u001b[49m\u001b[43m \u001b[49m\u001b[43mconvert\u001b[49m\u001b[38;5;241;43m=\u001b[39;49m\u001b[43mconvert\u001b[49m\u001b[43m)\u001b[49m\n",
      "File \u001b[1;32m~\\anaconda3\\lib\\site-packages\\pandas\\core\\algorithms.py:1812\u001b[0m, in \u001b[0;36mmap_array\u001b[1;34m(arr, mapper, na_action, convert)\u001b[0m\n\u001b[0;32m   1810\u001b[0m values \u001b[38;5;241m=\u001b[39m arr\u001b[38;5;241m.\u001b[39mastype(\u001b[38;5;28mobject\u001b[39m, copy\u001b[38;5;241m=\u001b[39m\u001b[38;5;28;01mFalse\u001b[39;00m)\n\u001b[0;32m   1811\u001b[0m \u001b[38;5;28;01mif\u001b[39;00m na_action \u001b[38;5;129;01mis\u001b[39;00m \u001b[38;5;28;01mNone\u001b[39;00m:\n\u001b[1;32m-> 1812\u001b[0m     \u001b[38;5;28;01mreturn\u001b[39;00m \u001b[43mlib\u001b[49m\u001b[38;5;241;43m.\u001b[39;49m\u001b[43mmap_infer\u001b[49m\u001b[43m(\u001b[49m\u001b[43mvalues\u001b[49m\u001b[43m,\u001b[49m\u001b[43m \u001b[49m\u001b[43mmapper\u001b[49m\u001b[43m,\u001b[49m\u001b[43m \u001b[49m\u001b[43mconvert\u001b[49m\u001b[38;5;241;43m=\u001b[39;49m\u001b[43mconvert\u001b[49m\u001b[43m)\u001b[49m\n\u001b[0;32m   1813\u001b[0m \u001b[38;5;28;01melse\u001b[39;00m:\n\u001b[0;32m   1814\u001b[0m     \u001b[38;5;28;01mreturn\u001b[39;00m lib\u001b[38;5;241m.\u001b[39mmap_infer_mask(\n\u001b[0;32m   1815\u001b[0m         values, mapper, mask\u001b[38;5;241m=\u001b[39misna(values)\u001b[38;5;241m.\u001b[39mview(np\u001b[38;5;241m.\u001b[39muint8), convert\u001b[38;5;241m=\u001b[39mconvert\n\u001b[0;32m   1816\u001b[0m     )\n",
      "File \u001b[1;32mlib.pyx:2917\u001b[0m, in \u001b[0;36mpandas._libs.lib.map_infer\u001b[1;34m()\u001b[0m\n",
      "Cell \u001b[1;32mIn[105], line 10\u001b[0m, in \u001b[0;36m<lambda>\u001b[1;34m(x)\u001b[0m\n\u001b[0;32m      7\u001b[0m df[\u001b[38;5;124m'\u001b[39m\u001b[38;5;124mSalary\u001b[39m\u001b[38;5;124m'\u001b[39m] \u001b[38;5;241m=\u001b[39m df[\u001b[38;5;124m'\u001b[39m\u001b[38;5;124mSalary\u001b[39m\u001b[38;5;124m'\u001b[39m]\u001b[38;5;241m.\u001b[39mstr\u001b[38;5;241m.\u001b[39mreplace(\u001b[38;5;124m'\u001b[39m\u001b[38;5;124m€\u001b[39m\u001b[38;5;124m'\u001b[39m, \u001b[38;5;124m'\u001b[39m\u001b[38;5;124m'\u001b[39m)\u001b[38;5;241m.\u001b[39mstr\u001b[38;5;241m.\u001b[39msplit(\u001b[38;5;124m'\u001b[39m\u001b[38;5;124m – \u001b[39m\u001b[38;5;124m'\u001b[39m)\n\u001b[0;32m      9\u001b[0m \u001b[38;5;66;03m# Convert to average of the range\u001b[39;00m\n\u001b[1;32m---> 10\u001b[0m df[\u001b[38;5;124m'\u001b[39m\u001b[38;5;124mSalary\u001b[39m\u001b[38;5;124m'\u001b[39m] \u001b[38;5;241m=\u001b[39m df[\u001b[38;5;124m'\u001b[39m\u001b[38;5;124mSalary\u001b[39m\u001b[38;5;124m'\u001b[39m]\u001b[38;5;241m.\u001b[39mapply(\u001b[38;5;28;01mlambda\u001b[39;00m x: (\u001b[38;5;28;43mfloat\u001b[39;49m\u001b[43m(\u001b[49m\u001b[43mx\u001b[49m\u001b[43m[\u001b[49m\u001b[38;5;241;43m0\u001b[39;49m\u001b[43m]\u001b[49m\u001b[43m)\u001b[49m \u001b[38;5;241m+\u001b[39m \u001b[38;5;28mfloat\u001b[39m(x[\u001b[38;5;241m1\u001b[39m])) \u001b[38;5;241m/\u001b[39m \u001b[38;5;241m2\u001b[39m \u001b[38;5;28;01mif\u001b[39;00m \u001b[38;5;28misinstance\u001b[39m(x, \u001b[38;5;28mlist\u001b[39m) \u001b[38;5;28;01melse\u001b[39;00m \u001b[38;5;28mfloat\u001b[39m(x))\n",
      "\u001b[1;31mValueError\u001b[0m: could not convert string to float: 'No Salary Info'"
     ]
    }
   ],
   "source": [
    "import pandas as pd\n",
    "\n",
    "# Assuming df is your DataFrame and 'Salary' is the column with salary data\n",
    "# Example: Salary data is in the format '€2000 – €3000'\n",
    "\n",
    "# Remove currency symbols and split the range\n",
    "df['Salary'] = df['Salary'].str.replace('€', '').str.split(' – ')\n",
    "\n",
    "# Convert to average of the range\n",
    "df['Salary'] = df['Salary'].apply(lambda x: (float(x[0]) + float(x[1])) / 2 if isinstance(x, list) else float(x))\n",
    "\n",
    "# Now df['Salary'] is in a numeric format\n"
   ]
  },
  {
   "cell_type": "code",
   "execution_count": 83,
   "id": "05ea485e",
   "metadata": {},
   "outputs": [],
   "source": [
    "url = 'https://europa.eu/eures/portal/jv-se/search?page=1&resultsPerPage=10&orderBy=BEST_MATCH&locationCodes=fi&lang=en'\n",
    "response = requests.get(url)\n",
    "soup = BeautifulSoup(response.text, 'html.parser')\n",
    "job_listings = soup.find_all('div', class_='jv-result-summary-sections')\n",
    "\n",
    "results = []\n",
    "for job in job_listings:\n",
    "        \n",
    "\n",
    "    employer_element = job.find('span', class_='jv-result-employer-name')\n",
    "    employer = employer_element.get_text().strip() if employer_element else 'No Employer Found'\n",
    "\n",
    "    results.append({'Employer': employer})\n",
    "\n",
    "\n",
    "\n",
    "data = results\n",
    "\n",
    "# Convert to pandas DataFrame\n",
    "df = pd.DataFrame(data)\n"
   ]
  },
  {
   "cell_type": "code",
   "execution_count": 86,
   "id": "25b54bea",
   "metadata": {},
   "outputs": [
    {
     "data": {
      "text/html": [
       "<div>\n",
       "<style scoped>\n",
       "    .dataframe tbody tr th:only-of-type {\n",
       "        vertical-align: middle;\n",
       "    }\n",
       "\n",
       "    .dataframe tbody tr th {\n",
       "        vertical-align: top;\n",
       "    }\n",
       "\n",
       "    .dataframe thead th {\n",
       "        text-align: right;\n",
       "    }\n",
       "</style>\n",
       "<table border=\"1\" class=\"dataframe\">\n",
       "  <thead>\n",
       "    <tr style=\"text-align: right;\">\n",
       "      <th></th>\n",
       "    </tr>\n",
       "  </thead>\n",
       "  <tbody>\n",
       "  </tbody>\n",
       "</table>\n",
       "</div>"
      ],
      "text/plain": [
       "Empty DataFrame\n",
       "Columns: []\n",
       "Index: []"
      ]
     },
     "execution_count": 86,
     "metadata": {},
     "output_type": "execute_result"
    }
   ],
   "source": [
    "df"
   ]
  },
  {
   "cell_type": "code",
   "execution_count": null,
   "id": "8d31ca8e",
   "metadata": {},
   "outputs": [],
   "source": []
  }
 ],
 "metadata": {
  "kernelspec": {
   "display_name": "Python 3 (ipykernel)",
   "language": "python",
   "name": "python3"
  },
  "language_info": {
   "codemirror_mode": {
    "name": "ipython",
    "version": 3
   },
   "file_extension": ".py",
   "mimetype": "text/x-python",
   "name": "python",
   "nbconvert_exporter": "python",
   "pygments_lexer": "ipython3",
   "version": "3.10.9"
  }
 },
 "nbformat": 4,
 "nbformat_minor": 5
}
